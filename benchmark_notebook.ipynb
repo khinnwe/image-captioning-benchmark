{
  "cells": [
    {
      "cell_type": "markdown",
      "metadata": {},
      "source": [
        "# \ud83d\udcca Image Captioning Benchmark\n",
        "Run and inspect the benchmark with step-by-step cells."
      ]
    },
    {
      "cell_type": "code",
      "execution_count": null,
      "metadata": {},
      "outputs": [],
      "source": [
        "# Install dependencies for this environment (skip if already installed)\n",
        "!pip -q install -r requirements.txt"
      ]
    },
    {
      "cell_type": "code",
      "execution_count": null,
      "metadata": {},
      "outputs": [],
      "source": [
        "import json, torch, sys, os\n",
        "print('Python:', sys.version)\n",
        "print('CUDA available:', torch.cuda.is_available())\n",
        "print('GPU:', torch.cuda.get_device_name(0) if torch.cuda.is_available() else 'CPU')"
      ]
    },
    {
      "cell_type": "code",
      "execution_count": null,
      "metadata": {},
      "outputs": [],
      "source": [
        "from benchmark import load_config, run_benchmark\n",
        "cfg = load_config('benchmark_config.yaml')\n",
        "cfg"
      ]
    },
    {
      "cell_type": "code",
      "execution_count": null,
      "metadata": {},
      "outputs": [],
      "source": [
        "# Run the benchmark (this will write results.json and results_predictions.json)\n",
        "run_benchmark(cfg)"
      ]
    },
    {
      "cell_type": "code",
      "execution_count": null,
      "metadata": {},
      "outputs": [],
      "source": [
        "# Inspect results\n",
        "import json\n",
        "with open('results.json', 'r', encoding='utf-8') as f:\n",
        "    summary = json.load(f)\n",
        "summary"
      ]
    },
    {
      "cell_type": "code",
      "execution_count": null,
      "metadata": {},
      "outputs": [],
      "source": [
        "with open('results_predictions.json', 'r', encoding='utf-8') as f:\n",
        "    preds = json.load(f)\n",
        "list(preds.keys())[:5]"
      ]
    }
  ],
  "metadata": {
    "kernelspec": {
      "display_name": "Python 3",
      "language": "python",
      "name": "python3"
    },
    "language_info": {
      "name": "python",
      "version": "3.10"
    }
  },
  "nbformat": 4,
  "nbformat_minor": 5
}